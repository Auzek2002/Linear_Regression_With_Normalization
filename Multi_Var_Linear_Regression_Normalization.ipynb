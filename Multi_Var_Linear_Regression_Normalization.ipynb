{
  "nbformat": 4,
  "nbformat_minor": 0,
  "metadata": {
    "colab": {
      "provenance": [],
      "authorship_tag": "ABX9TyONJ5cbmyDyi5xFNdUkuVhH",
      "include_colab_link": true
    },
    "kernelspec": {
      "name": "python3",
      "display_name": "Python 3"
    },
    "language_info": {
      "name": "python"
    }
  },
  "cells": [
    {
      "cell_type": "markdown",
      "metadata": {
        "id": "view-in-github",
        "colab_type": "text"
      },
      "source": [
        "<a href=\"https://colab.research.google.com/github/Auzek2002/Linear_Regression_With_Normalization/blob/main/Multi_Var_Linear_Regression_Normalization.ipynb\" target=\"_parent\"><img src=\"https://colab.research.google.com/assets/colab-badge.svg\" alt=\"Open In Colab\"/></a>"
      ]
    },
    {
      "cell_type": "markdown",
      "source": [
        "Importing Libs:"
      ],
      "metadata": {
        "id": "bMUZBzx5bnYS"
      }
    },
    {
      "cell_type": "code",
      "source": [
        "import numpy as np\n",
        "import matplotlib.pyplot as plt\n",
        "import math, copy"
      ],
      "metadata": {
        "id": "9IZl_NJFbreb"
      },
      "execution_count": 48,
      "outputs": []
    },
    {
      "cell_type": "markdown",
      "source": [
        "Some Test Data:"
      ],
      "metadata": {
        "id": "gVvBPapGb7GG"
      }
    },
    {
      "cell_type": "code",
      "source": [
        "X_train = np.array([[2104, 5, 1, 45], [1416, 3, 2, 40], [852, 2, 1, 35]])\n",
        "y_train = np.array([460, 232, 178])\n"
      ],
      "metadata": {
        "id": "sPHfS8dsb-HG"
      },
      "execution_count": 49,
      "outputs": []
    },
    {
      "cell_type": "markdown",
      "source": [
        "Computing Cost:"
      ],
      "metadata": {
        "id": "3H2zmQa7cBAY"
      }
    },
    {
      "cell_type": "code",
      "source": [
        "def compute_cost(x,y,w,b):\n",
        "  m= x.shape[0]\n",
        "  cost =0\n",
        "\n",
        "  for i in range (m):\n",
        "    f_wb = np.dot(x[i],w) + b\n",
        "    cost += (f_wb - y[i])**2\n",
        "  total_cost = cost/(2*m)\n",
        "  return total_cost"
      ],
      "metadata": {
        "id": "Wt9VpXZ3cC1l"
      },
      "execution_count": 50,
      "outputs": []
    },
    {
      "cell_type": "markdown",
      "source": [
        "Computing Gradiants:"
      ],
      "metadata": {
        "id": "FBNCYdjichu_"
      }
    },
    {
      "cell_type": "code",
      "source": [
        "def compute_gradiant(x,y,w,b):\n",
        "  m,n = x.shape\n",
        "  dj_dw = np.zeros(n)\n",
        "  dj_db = 0\n",
        "\n",
        "  for i in range (m):\n",
        "    f_wb = np.dot(x[i],w) + b\n",
        "    for j in range (n):\n",
        "      dj_dw[j] += (f_wb - y[i]) * x[i,j]\n",
        "    dj_db += (f_wb - y[i])\n",
        "  dj_dw = dj_dw/m\n",
        "  dj_db = dj_db/m\n",
        "  return dj_dw,dj_db"
      ],
      "metadata": {
        "id": "DUUYzP-5cjvv"
      },
      "execution_count": 51,
      "outputs": []
    },
    {
      "cell_type": "markdown",
      "source": [
        "Gradiant Descent:"
      ],
      "metadata": {
        "id": "CoZW48f9dpFV"
      }
    },
    {
      "cell_type": "code",
      "source": [
        "def gradiant_descent(x,y,w_in,b_in,alpha,iters,cost_function,gradiant_function):\n",
        "  j_history = []\n",
        "  iterations = []\n",
        "  w = copy.deepcopy(w_in)\n",
        "  b = b_in\n",
        "\n",
        "  for i in range (iters):\n",
        "    dj_dw, dj_db = gradiant_function(x,y,w,b)\n",
        "    w = w - alpha*dj_dw\n",
        "    b = b - alpha*dj_db\n",
        "\n",
        "    if i <10000:\n",
        "      j_history.append(cost_function(x,y,w,b))\n",
        "\n",
        "    if i % math.ceil(iters/10) == 0:\n",
        "      print(f\"Iterations: {i:4d}, cost: {j_history[-1]:8.2f}\")\n",
        "      iterations.append(i)\n",
        "  return w,b,j_history,iterations"
      ],
      "metadata": {
        "id": "VkPPcB7Qdri9"
      },
      "execution_count": 52,
      "outputs": []
    },
    {
      "cell_type": "markdown",
      "source": [
        "Z-Score Normalization"
      ],
      "metadata": {
        "id": "d0YxlCzqflMe"
      }
    },
    {
      "cell_type": "code",
      "source": [
        "def z_score_normalization(x):\n",
        "  mu = np.mean(x,axis=0)\n",
        "  sigma = np.std(x,axis=0)\n",
        "  x_norm = (x-mu)/sigma\n",
        "  return (x_norm,mu,sigma)"
      ],
      "metadata": {
        "id": "lmLHgEncfxD6"
      },
      "execution_count": 53,
      "outputs": []
    },
    {
      "cell_type": "code",
      "source": [
        "w_i = np.array([ 0.39133535, 18.75376741, -53.36032453, -26.42131618])\n",
        "w_init=np.zeros_like(w_i)\n",
        "b_init=0.\n",
        "alpha = 3e-1\n",
        "iterations=1000\n",
        "m=X_train.shape[0]\n",
        "x_norm,mu,sigma = z_score_normalization(X_train)\n",
        "w_final,b_final,j_hist,ii = gradiant_descent(x_norm,y_train,w_init,b_init,alpha,iterations,compute_cost,compute_gradiant);\n",
        "y_p = np.zeros(m)\n",
        "for i in range (m):\n",
        "  y_p[i] = np.dot(x_norm[i],w_final)+b_final\n",
        "for i in range (m):\n",
        "  print(f\"Prediction: {y_p[i]} vs Actual: {y_train[i]}\")\n",
        "\n",
        "plt.scatter(X_train[:,0],y_train,c='r',label=\"Actual\")\n",
        "plt.scatter(X_train[:,0],y_p,c='yellow',label='Predicted')\n",
        "plt.legend()\n",
        "plt.show()"
      ],
      "metadata": {
        "colab": {
          "base_uri": "https://localhost:8080/",
          "height": 656
        },
        "id": "OD6s4SkMfDUH",
        "outputId": "b6c94c28-d128-4d61-b933-48f087eedf9e"
      },
      "execution_count": 54,
      "outputs": [
        {
          "output_type": "stream",
          "name": "stdout",
          "text": [
            "Iterations:    0, cost: 20850.28\n",
            "Iterations:  100, cost:     0.00\n",
            "Iterations:  200, cost:     0.00\n",
            "Iterations:  300, cost:     0.00\n",
            "Iterations:  400, cost:     0.00\n",
            "Iterations:  500, cost:     0.00\n",
            "Iterations:  600, cost:     0.00\n",
            "Iterations:  700, cost:     0.00\n",
            "Iterations:  800, cost:     0.00\n",
            "Iterations:  900, cost:     0.00\n",
            "Prediction: 459.99999999999994 vs Actual: 460\n",
            "Prediction: 231.99999999999994 vs Actual: 232\n",
            "Prediction: 177.99999999999994 vs Actual: 178\n"
          ]
        },
        {
          "output_type": "display_data",
          "data": {
            "text/plain": [
              "<Figure size 640x480 with 1 Axes>"
            ],
            "image/png": "[encoded data removed]"
          },
          "metadata": {}
        }
      ]
    },
    {
      "cell_type": "code",
      "source": [],
      "metadata": {
        "id": "mrOkqOD4fFmX"
      },
      "execution_count": null,
      "outputs": []
    }
  ]
}